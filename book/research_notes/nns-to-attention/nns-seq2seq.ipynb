{
 "cells": [
  {
   "cell_type": "markdown",
   "metadata": {},
   "source": [
    "# NNs to Seq2Seq models \n",
    "\n",
    "```{admonition} PyTorch is not compatible with \"Live Code\" - Use Google Colab\n",
    ":class: warning\n",
    "\n",
    "To run the code in this article, please use the {fa}`rocket` --> {guilabel}`Colab` option for execution.\n",
    "```\n",
    "\n",
    "\n",
    "\n"
   ]
  },
  {
   "cell_type": "markdown",
   "metadata": {},
   "source": []
  }
 ],
 "metadata": {
  "language_info": {
   "name": "python"
  }
 },
 "nbformat": 4,
 "nbformat_minor": 2
}
