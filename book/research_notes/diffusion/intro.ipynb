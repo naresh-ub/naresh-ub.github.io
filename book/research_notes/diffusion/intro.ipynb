{
 "cells": [
  {
   "cell_type": "markdown",
   "id": "e68e77f5-c83a-4a18-a443-452a0c8c4903",
   "metadata": {},
   "source": [
    "# Diffusion models from scratch\n",
    "\n",
    "```{admonition} Contents of this section are presented in a Guest Lecture at UB\n",
    ":class: tip\n",
    "Something\n",
    "```\n",
    "\n"
   ]
  },
  {
   "cell_type": "code",
   "execution_count": null,
   "id": "c7fb83c0-de06-464c-9278-a2698b6201ff",
   "metadata": {},
   "outputs": [],
   "source": []
  }
 ],
 "metadata": {
  "kernelspec": {
   "display_name": "tb_repo",
   "language": "python",
   "name": "tb_repo"
  },
  "language_info": {
   "codemirror_mode": {
    "name": "ipython",
    "version": 3
   },
   "file_extension": ".py",
   "mimetype": "text/x-python",
   "name": "python",
   "nbconvert_exporter": "python",
   "pygments_lexer": "ipython3",
   "version": "3.9.6"
  }
 },
 "nbformat": 4,
 "nbformat_minor": 5
}
